{
  "cells": [
    {
      "cell_type": "code",
      "execution_count": null,
      "metadata": {
        "collapsed": false
      },
      "outputs": [],
      "source": [
        "%matplotlib inline"
      ]
    },
    {
      "cell_type": "markdown",
      "metadata": {},
      "source": [
        "\n.. currentmodule:: dgl\n\nDGLGraph and Node/edge Features\n===============================\n\n**Author**: `Minjie Wang <https://jermainewang.github.io/>`_, Quan Gan, Yu Gai,\nZheng Zhang\n\nIn this tutorial, you learn how to create a graph and how to read and write node and edge representations.\n"
      ]
    },
    {
      "cell_type": "markdown",
      "metadata": {},
      "source": [
        "Creating a graph\n----------------\nThe design of :class:`DGLGraph` was influenced by other graph libraries. You \ncan create a graph from networkx and convert it into a :class:`DGLGraph` and \nvice versa.\n\n"
      ]
    },
    {
      "cell_type": "code",
      "execution_count": null,
      "metadata": {
        "collapsed": false
      },
      "outputs": [],
      "source": [
        "import networkx as nx\nimport dgl\n\ng_nx = nx.petersen_graph()\ng_dgl = dgl.DGLGraph(g_nx)\n\nimport matplotlib.pyplot as plt\nplt.subplot(121)\nnx.draw(g_nx, with_labels=True)\nplt.subplot(122)\nnx.draw(g_dgl.to_networkx(), with_labels=True)\n\nplt.show()"
      ]
    },
    {
      "cell_type": "markdown",
      "metadata": {},
      "source": [
        "There are many ways to construct a :class:`DGLGraph`. Below are the allowed\ndata types ordered by our recommendataion.\n\n* A pair of arrays ``(u, v)`` storing the source and destination nodes respectively.\n  They can be numpy arrays or tensor objects from the backend framework.\n* ``scipy`` sparse matrix representing the adjacency matrix of the graph to be\n  constructed.\n* ``networkx`` graph object.\n* A list of edges in the form of integer pairs.\n\nThe examples below construct the same star graph via different methods.\n\n:class:`DGLGraph` nodes are a consecutive range of integers between 0 and\n:func:`number_of_nodes() <DGLGraph.number_of_nodes>`. \n:class:`DGLGraph` edges are in order of their additions. Note that\nedges are accessed in much the same way as nodes, with one extra feature:\n*edge broadcasting*.\n\n"
      ]
    },
    {
      "cell_type": "code",
      "execution_count": null,
      "metadata": {
        "collapsed": false
      },
      "outputs": [],
      "source": [
        "import torch as th\nimport numpy as np\nimport scipy.sparse as spp\n\n# Create a star graph from a pair of arrays (using ``numpy.array`` works too).\nu = th.tensor([0, 0, 0, 0, 0])\nv = th.tensor([1, 2, 3, 4, 5])\nstar1 = dgl.DGLGraph((u, v))\n\n# Create the same graph in one go! Essentially, if one of the arrays is a scalar,\n# the value is automatically broadcasted to match the length of the other array\n# -- a feature called *edge broadcasting*.\nstart2 = dgl.DGLGraph((0, v))\n\n# Create the same graph from a scipy sparse matrix (using ``scipy.sparse.csr_matrix`` works too).\nadj = spp.coo_matrix((np.ones(len(u)), (u.numpy(), v.numpy())))\nstar3 = dgl.DGLGraph(adj)"
      ]
    },
    {
      "cell_type": "markdown",
      "metadata": {},
      "source": [
        "You can also create a graph by progressively adding more nodes and edges.\nAlthough it is not as efficient as the above constructors, it is suitable\nfor applications where the graph cannot be constructed in one shot.\n\n"
      ]
    },
    {
      "cell_type": "code",
      "execution_count": null,
      "metadata": {
        "collapsed": false
      },
      "outputs": [],
      "source": [
        "g = dgl.DGLGraph()\ng.add_nodes(10)\n# A couple edges one-by-one\nfor i in range(1, 4):\n    g.add_edge(i, 0)\n# A few more with a paired list\nsrc = list(range(5, 8)); dst = [0]*3\ng.add_edges(src, dst)\n# finish with a pair of tensors\nsrc = th.tensor([8, 9]); dst = th.tensor([0, 0])\ng.add_edges(src, dst)\n\n# Edge broadcasting will do star graph in one go!\ng.clear(); g.add_nodes(10)\nsrc = th.tensor(list(range(1, 10)));\ng.add_edges(src, 0)\n\n# Visualize the graph.\nnx.draw(g.to_networkx(), with_labels=True)\nplt.show()"
      ]
    },
    {
      "cell_type": "markdown",
      "metadata": {},
      "source": [
        "Assigning a feature\n-------------------\nYou can also assign features to nodes and edges of a :class:`DGLGraph`.  The\nfeatures are represented as dictionary of names (strings) and tensors,\ncalled **fields**.\n\nThe following code snippet assigns each node a vector (len=3).\n\n<div class=\"alert alert-info\"><h4>Note</h4><p>DGL aims to be framework-agnostic, and currently it supports PyTorch and\n   MXNet tensors. The following examples use PyTorch only.</p></div>\n\n"
      ]
    },
    {
      "cell_type": "code",
      "execution_count": null,
      "metadata": {
        "collapsed": false
      },
      "outputs": [],
      "source": [
        "import dgl\nimport torch as th\n\nx = th.randn(10, 3)\ng.ndata['x'] = x"
      ]
    },
    {
      "cell_type": "markdown",
      "metadata": {},
      "source": [
        ":func:`ndata <DGLGraph.ndata>` is a syntax sugar to access the feature\ndata of all nodes. To get the features of some particular nodes, slice out\nthe corresponding rows.\n\n"
      ]
    },
    {
      "cell_type": "code",
      "execution_count": null,
      "metadata": {
        "collapsed": false
      },
      "outputs": [],
      "source": [
        "g.ndata['x'][0] = th.zeros(1, 3)\ng.ndata['x'][[0, 1, 2]] = th.zeros(3, 3)\ng.ndata['x'][th.tensor([0, 1, 2])] = th.randn((3, 3))"
      ]
    },
    {
      "cell_type": "markdown",
      "metadata": {},
      "source": [
        "Assigning edge features is similar to that of node features,\nexcept that you can also do it by specifying endpoints of the edges.\n\n"
      ]
    },
    {
      "cell_type": "code",
      "execution_count": null,
      "metadata": {
        "collapsed": false
      },
      "outputs": [],
      "source": [
        "g.edata['w'] = th.randn(9, 2)\n\n# Access edge set with IDs in integer, list, or integer tensor\ng.edata['w'][1] = th.randn(1, 2)\ng.edata['w'][[0, 1, 2]] = th.zeros(3, 2)\ng.edata['w'][th.tensor([0, 1, 2])] = th.zeros(3, 2)\n\n# You can get the edge ids by giving endpoints, which are useful for accessing the features.\ng.edata['w'][g.edge_id(1, 0)] = th.ones(1, 2)                   # edge 1 -> 0\ng.edata['w'][g.edge_ids([1, 2, 3], [0, 0, 0])] = th.ones(3, 2)  # edges [1, 2, 3] -> 0\n# Use edge broadcasting whenever applicable.\ng.edata['w'][g.edge_ids([1, 2, 3], 0)] = th.ones(3, 2)          # edges [1, 2, 3] -> 0"
      ]
    },
    {
      "cell_type": "markdown",
      "metadata": {},
      "source": [
        "After assignments, each node or edge field will be associated with a scheme\ncontaining the shape and data type (dtype) of its field value.\n\n"
      ]
    },
    {
      "cell_type": "code",
      "execution_count": null,
      "metadata": {
        "collapsed": false
      },
      "outputs": [],
      "source": [
        "print(g.node_attr_schemes())\ng.ndata['x'] = th.zeros((10, 4))\nprint(g.node_attr_schemes())"
      ]
    },
    {
      "cell_type": "markdown",
      "metadata": {},
      "source": [
        "You can also remove node or edge states from the graph. This is particularly\nuseful to save memory during inference.\n\n"
      ]
    },
    {
      "cell_type": "code",
      "execution_count": null,
      "metadata": {
        "collapsed": false
      },
      "outputs": [],
      "source": [
        "g.ndata.pop('x')\ng.edata.pop('w')"
      ]
    },
    {
      "cell_type": "markdown",
      "metadata": {},
      "source": [
        "Working with multigraphs\n~~~~~~~~~~~~~~~~~~~~~~~~\nMany graph applications need parallel edges,\nwhich class:DGLGraph supports by default.\n\n"
      ]
    },
    {
      "cell_type": "code",
      "execution_count": null,
      "metadata": {
        "collapsed": false
      },
      "outputs": [],
      "source": [
        "g_multi = dgl.DGLGraph()\ng_multi.add_nodes(10)\ng_multi.ndata['x'] = th.randn(10, 2)\n\ng_multi.add_edges(list(range(1, 10)), 0)\ng_multi.add_edge(1, 0) # two edges on 1->0\n\ng_multi.edata['w'] = th.randn(10, 2)\ng_multi.edges[1].data['w'] = th.zeros(1, 2)\nprint(g_multi.edges())"
      ]
    },
    {
      "cell_type": "markdown",
      "metadata": {},
      "source": [
        "An edge in multigraph cannot be uniquely identified by using its incident nodes\n$u$ and $v$; query their edge IDs use ``edge_id`` interface.\n\n"
      ]
    },
    {
      "cell_type": "code",
      "execution_count": null,
      "metadata": {
        "collapsed": false
      },
      "outputs": [],
      "source": [
        "eid_10 = g_multi.edge_id(1, 0, return_array=True)\ng_multi.edges[eid_10].data['w'] = th.ones(len(eid_10), 2)\nprint(g_multi.edata['w'])"
      ]
    },
    {
      "cell_type": "markdown",
      "metadata": {},
      "source": [
        "<div class=\"alert alert-info\"><h4>Note</h4><p>* Nodes and edges can be added but not removed.\n   * Updating a feature of different schemes raises the risk of error on individual nodes (or\n     node subset).</p></div>\n\n"
      ]
    },
    {
      "cell_type": "markdown",
      "metadata": {},
      "source": [
        "Next steps\n----------\nIn the :doc:`next tutorial <3_pagerank>` you learn the\nDGL message passing interface by implementing PageRank.\n\n"
      ]
    }
  ],
  "metadata": {
    "kernelspec": {
      "display_name": "Python 3",
      "language": "python",
      "name": "python3"
    },
    "language_info": {
      "codemirror_mode": {
        "name": "ipython",
        "version": 3
      },
      "file_extension": ".py",
      "mimetype": "text/x-python",
      "name": "python",
      "nbconvert_exporter": "python",
      "pygments_lexer": "ipython3",
      "version": "3.7.3"
    }
  },
  "nbformat": 4,
  "nbformat_minor": 0
}
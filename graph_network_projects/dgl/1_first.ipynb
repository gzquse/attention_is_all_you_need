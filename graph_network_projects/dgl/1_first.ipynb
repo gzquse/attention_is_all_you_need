{
 "cells": [
  {
   "cell_type": "code",
   "execution_count": null,
   "metadata": {
    "collapsed": false,
    "jupyter": {
     "outputs_hidden": false
    }
   },
   "outputs": [],
   "source": [
    "%matplotlib inline"
   ]
  },
  {
   "cell_type": "markdown",
   "metadata": {},
   "source": [
    "\n",
    ".. currentmodule:: dgl\n",
    "\n",
    "DGL at a Glance\n",
    "=========================\n",
    "\n",
    "**Author**: `Minjie Wang <https://jermainewang.github.io/>`_, Quan Gan, `Jake\n",
    "Zhao <https://cs.nyu.edu/~jakezhao/>`_, Zheng Zhang\n",
    "\n",
    "DGL is a Python package dedicated to deep learning on graphs, built atop\n",
    "existing tensor DL frameworks (e.g. Pytorch, MXNet) and simplifying the\n",
    "implementation of graph-based neural networks.\n",
    "\n",
    "The goal of this tutorial:\n",
    "\n",
    "- Understand how DGL enables computation on graph from a high level.\n",
    "- Train a simple graph neural network in DGL to classify nodes in a graph.\n",
    "\n",
    "At the end of this tutorial, we hope you get a brief feeling of how DGL works.\n",
    "\n",
    "*This tutorial assumes basic familiarity with pytorch.*\n"
   ]
  },
  {
   "cell_type": "markdown",
   "metadata": {},
   "source": [
    "Tutorial problem description\n",
    "----------------------------\n",
    "\n",
    "The tutorial is based on the \"Zachary's karate club\" problem. The karate club\n",
    "is a social network that includes 34 members and documents pairwise links\n",
    "between members who interact outside the club.  The club later divides into\n",
    "two communities led by the instructor (node 0) and the club president (node\n",
    "33). The network is visualized as follows with the color indicating the\n",
    "community:\n",
    "\n",
    "![](https://data.dgl.ai/tutorial/img/karate-club.png)\n",
    "\n",
    "   :align: center\n",
    "\n",
    "The task is to predict which side (0 or 33) each member tends to join given\n",
    "the social network itself.\n",
    "\n"
   ]
  },
  {
   "cell_type": "markdown",
   "metadata": {},
   "source": [
    "Step 1: Creating a graph in DGL\n",
    "-------------------------------\n",
    "Create the graph for Zachary's karate club as follows:\n",
    "\n"
   ]
  },
  {
   "cell_type": "code",
   "execution_count": null,
   "metadata": {
    "collapsed": false,
    "jupyter": {
     "outputs_hidden": false
    }
   },
   "outputs": [],
   "source": [
    "import dgl\n",
    "import numpy as np\n",
    "\n",
    "def build_karate_club_graph():\n",
    "    # All 78 edges are stored in two numpy arrays. One for source endpoints\n",
    "    # while the other for destination endpoints.\n",
    "    src = np.array([1, 2, 2, 3, 3, 3, 4, 5, 6, 6, 6, 7, 7, 7, 7, 8, 8, 9, 10, 10,\n",
    "        10, 11, 12, 12, 13, 13, 13, 13, 16, 16, 17, 17, 19, 19, 21, 21,\n",
    "        25, 25, 27, 27, 27, 28, 29, 29, 30, 30, 31, 31, 31, 31, 32, 32,\n",
    "        32, 32, 32, 32, 32, 32, 32, 32, 32, 33, 33, 33, 33, 33, 33, 33,\n",
    "        33, 33, 33, 33, 33, 33, 33, 33, 33, 33])\n",
    "    dst = np.array([0, 0, 1, 0, 1, 2, 0, 0, 0, 4, 5, 0, 1, 2, 3, 0, 2, 2, 0, 4,\n",
    "        5, 0, 0, 3, 0, 1, 2, 3, 5, 6, 0, 1, 0, 1, 0, 1, 23, 24, 2, 23,\n",
    "        24, 2, 23, 26, 1, 8, 0, 24, 25, 28, 2, 8, 14, 15, 18, 20, 22, 23,\n",
    "        29, 30, 31, 8, 9, 13, 14, 15, 18, 19, 20, 22, 23, 26, 27, 28, 29, 30,\n",
    "        31, 32])\n",
    "    # Edges are directional in DGL; Make them bi-directional.\n",
    "    u = np.concatenate([src, dst])\n",
    "    v = np.concatenate([dst, src])\n",
    "    # Construct a DGLGraph\n",
    "    return dgl.DGLGraph((u, v))"
   ]
  },
  {
   "cell_type": "markdown",
   "metadata": {},
   "source": [
    "Print out the number of nodes and edges in our newly constructed graph:\n",
    "\n"
   ]
  },
  {
   "cell_type": "code",
   "execution_count": null,
   "metadata": {
    "collapsed": false,
    "jupyter": {
     "outputs_hidden": false
    }
   },
   "outputs": [],
   "source": [
    "G = build_karate_club_graph()\n",
    "print('We have %d nodes.' % G.number_of_nodes())\n",
    "print('We have %d edges.' % G.number_of_edges())"
   ]
  },
  {
   "cell_type": "markdown",
   "metadata": {},
   "source": [
    "Visualize the graph by converting it to a `networkx\n",
    "<https://networkx.github.io/documentation/stable/>`_ graph:\n",
    "\n"
   ]
  },
  {
   "cell_type": "code",
   "execution_count": null,
   "metadata": {
    "collapsed": false,
    "jupyter": {
     "outputs_hidden": false
    }
   },
   "outputs": [],
   "source": [
    "import networkx as nx\n",
    "# Since the actual graph is undirected, we convert it for visualization\n",
    "# purpose.\n",
    "nx_G = G.to_networkx().to_undirected()\n",
    "# Kamada-Kawaii layout usually looks pretty for arbitrary graphs\n",
    "pos = nx.kamada_kawai_layout(nx_G)\n",
    "nx.draw(nx_G, pos, with_labels=True, node_color=[[.7, .7, .7]])"
   ]
  },
  {
   "cell_type": "markdown",
   "metadata": {},
   "source": [
    "Step 2: Assign features to nodes or edges\n",
    "--------------------------------------------\n",
    "Graph neural networks associate features with nodes and edges for training.\n",
    "For our classification example, since there is no input feature, we assign each node\n",
    "with a learnable embedding vector.\n",
    "\n"
   ]
  },
  {
   "cell_type": "code",
   "execution_count": null,
   "metadata": {
    "collapsed": false,
    "jupyter": {
     "outputs_hidden": false
    }
   },
   "outputs": [],
   "source": [
    "# In DGL, you can add features for all nodes at once, using a feature tensor that\n",
    "# batches node features along the first dimension. The code below adds the learnable\n",
    "# embeddings for all nodes:\n",
    "\n",
    "import torch\n",
    "import torch.nn as nn\n",
    "import torch.nn.functional as F\n",
    "\n",
    "embed = nn.Embedding(34, 5)  # 34 nodes with embedding dim equal to 5\n",
    "G.ndata['feat'] = embed.weight"
   ]
  },
  {
   "cell_type": "markdown",
   "metadata": {},
   "source": [
    "Print out the node features to verify:\n",
    "\n"
   ]
  },
  {
   "cell_type": "code",
   "execution_count": null,
   "metadata": {
    "collapsed": false,
    "jupyter": {
     "outputs_hidden": false
    }
   },
   "outputs": [],
   "source": [
    "# print out node 2's input feature\n",
    "print(G.ndata['feat'][2])\n",
    "\n",
    "# print out node 10 and 11's input features\n",
    "print(G.ndata['feat'][[10, 11]])"
   ]
  },
  {
   "cell_type": "markdown",
   "metadata": {},
   "source": [
    "Step 3: Define a Graph Convolutional Network (GCN)\n",
    "--------------------------------------------------\n",
    "To perform node classification, use the Graph Convolutional Network\n",
    "(GCN) developed by `Kipf and Welling <https://arxiv.org/abs/1609.02907>`_. Here\n",
    "is the simplest definition of a GCN framework. We recommend that you \n",
    "read the original paper for more details.\n",
    "\n",
    "- At layer $l$, each node $v_i^l$ carries a feature vector $h_i^l$.\n",
    "- Each layer of the GCN tries to aggregate the features from $u_i^{l}$ where\n",
    "  $u_i$'s are neighborhood nodes to $v$ into the next layer representation at\n",
    "  $v_i^{l+1}$. This is followed by an affine transformation with some\n",
    "  non-linearity.\n",
    "\n",
    "The above definition of GCN fits into a **message-passing** paradigm: Each\n",
    "node will update its own feature with information sent from neighboring\n",
    "nodes. A graphical demonstration is displayed below.\n",
    "\n",
    "![mailbox](https://data.dgl.ai/tutorial/1_first/mailbox.png)\n",
    "\n",
    "In DGL, we provide implementations of popular Graph Neural Network layers under\n",
    "the `dgl.<backend>.nn` subpackage. The :class:`~dgl.nn.pytorch.GraphConv` module\n",
    "implements one Graph Convolutional layer.\n",
    "\n"
   ]
  },
  {
   "cell_type": "code",
   "execution_count": null,
   "metadata": {
    "collapsed": false,
    "jupyter": {
     "outputs_hidden": false
    }
   },
   "outputs": [],
   "source": [
    "from dgl.nn.pytorch import GraphConv"
   ]
  },
  {
   "cell_type": "markdown",
   "metadata": {},
   "source": [
    "Define a deeper GCN model that contains two GCN layers:\n",
    "\n"
   ]
  },
  {
   "cell_type": "code",
   "execution_count": null,
   "metadata": {
    "collapsed": false,
    "jupyter": {
     "outputs_hidden": false
    }
   },
   "outputs": [],
   "source": [
    "class GCN(nn.Module):\n",
    "    def __init__(self, in_feats, hidden_size, num_classes):\n",
    "        super(GCN, self).__init__()\n",
    "        self.conv1 = GraphConv(in_feats, hidden_size)\n",
    "        self.conv2 = GraphConv(hidden_size, num_classes)\n",
    "\n",
    "    def forward(self, g, inputs):\n",
    "        h = self.conv1(g, inputs)\n",
    "        h = torch.relu(h)\n",
    "        h = self.conv2(g, h)\n",
    "        return h\n",
    "\n",
    "# The first layer transforms input features of size of 5 to a hidden size of 5.\n",
    "# The second layer transforms the hidden layer and produces output features of\n",
    "# size 2, corresponding to the two groups of the karate club.\n",
    "net = GCN(5, 5, 2)"
   ]
  },
  {
   "cell_type": "markdown",
   "metadata": {},
   "source": [
    "Step 4: Data preparation and initialization\n",
    "-------------------------------------------\n",
    "\n",
    "We use learnable embeddings to initialize the node features. Since this is a\n",
    "semi-supervised setting, only the instructor (node 0) and the club president\n",
    "(node 33) are assigned labels. The implementation is available as follow.\n",
    "\n"
   ]
  },
  {
   "cell_type": "code",
   "execution_count": null,
   "metadata": {
    "collapsed": false,
    "jupyter": {
     "outputs_hidden": false
    }
   },
   "outputs": [],
   "source": [
    "inputs = embed.weight\n",
    "labeled_nodes = torch.tensor([0, 33])  # only the instructor and the president nodes are labeled\n",
    "labels = torch.tensor([0, 1])  # their labels are different"
   ]
  },
  {
   "cell_type": "markdown",
   "metadata": {},
   "source": [
    "Step 5: Train then visualize\n",
    "----------------------------\n",
    "The training loop is exactly the same as other PyTorch models.\n",
    "We (1) create an optimizer, (2) feed the inputs to the model,\n",
    "(3) calculate the loss and (4) use autograd to optimize the model.\n",
    "\n"
   ]
  },
  {
   "cell_type": "code",
   "execution_count": null,
   "metadata": {
    "collapsed": false,
    "jupyter": {
     "outputs_hidden": false
    }
   },
   "outputs": [],
   "source": [
    "import itertools\n",
    "\n",
    "optimizer = torch.optim.Adam(itertools.chain(net.parameters(), embed.parameters()), lr=0.01)\n",
    "all_logits = []\n",
    "for epoch in range(50):\n",
    "    logits = net(G, inputs)\n",
    "    # we save the logits for visualization later\n",
    "    all_logits.append(logits.detach())\n",
    "    logp = F.log_softmax(logits, 1)\n",
    "    # we only compute loss for labeled nodes\n",
    "    loss = F.nll_loss(logp[labeled_nodes], labels)\n",
    "\n",
    "    optimizer.zero_grad()\n",
    "    loss.backward()\n",
    "    optimizer.step()\n",
    "\n",
    "    print('Epoch %d | Loss: %.4f' % (epoch, loss.item()))"
   ]
  },
  {
   "cell_type": "markdown",
   "metadata": {},
   "source": [
    "This is a rather toy example, so it does not even have a validation or test\n",
    "set. Instead, Since the model produces an output feature of size 2 for each node, we can\n",
    "visualize by plotting the output feature in a 2D space.\n",
    "The following code animates the training process from initial guess\n",
    "(where the nodes are not classified correctly at all) to the end\n",
    "(where the nodes are linearly separable).\n",
    "\n"
   ]
  },
  {
   "cell_type": "code",
   "execution_count": null,
   "metadata": {
    "collapsed": false,
    "jupyter": {
     "outputs_hidden": false
    }
   },
   "outputs": [],
   "source": [
    "import matplotlib.animation as animation\n",
    "import matplotlib.pyplot as plt\n",
    "\n",
    "def draw(i):\n",
    "    cls1color = '#00FFFF'\n",
    "    cls2color = '#FF00FF'\n",
    "    pos = {}\n",
    "    colors = []\n",
    "    for v in range(34):\n",
    "        pos[v] = all_logits[i][v].numpy()\n",
    "        cls = pos[v].argmax()\n",
    "        colors.append(cls1color if cls else cls2color)\n",
    "    ax.cla()\n",
    "    ax.axis('off')\n",
    "    ax.set_title('Epoch: %d' % i)\n",
    "    nx.draw_networkx(nx_G.to_undirected(), pos, node_color=colors,\n",
    "            with_labels=True, node_size=300, ax=ax)\n",
    "\n",
    "fig = plt.figure(dpi=150)\n",
    "fig.clf()\n",
    "ax = fig.subplots()\n",
    "draw(0)  # draw the prediction of the first epoch\n",
    "plt.close()"
   ]
  },
  {
   "cell_type": "markdown",
   "metadata": {},
   "source": [
    "![](https://data.dgl.ai/tutorial/1_first/karate0.png)\n",
    "\n",
    "   :height: 300px\n",
    "   :width: 400px\n",
    "   :align: center\n",
    "\n"
   ]
  },
  {
   "cell_type": "markdown",
   "metadata": {},
   "source": [
    "The following animation shows how the model correctly predicts the community\n",
    "after a series of training epochs.\n",
    "\n"
   ]
  },
  {
   "cell_type": "code",
   "execution_count": null,
   "metadata": {
    "collapsed": false,
    "jupyter": {
     "outputs_hidden": false
    }
   },
   "outputs": [],
   "source": [
    "ani = animation.FuncAnimation(fig, draw, frames=len(all_logits), interval=200)"
   ]
  },
  {
   "cell_type": "markdown",
   "metadata": {},
   "source": [
    "![](https://data.dgl.ai/tutorial/1_first/karate.gif)\n",
    "\n",
    "   :height: 300px\n",
    "   :width: 400px\n",
    "   :align: center\n",
    "\n"
   ]
  },
  {
   "cell_type": "markdown",
   "metadata": {},
   "source": [
    "Next steps\n",
    "----------\n",
    "\n",
    "In the :doc:`next tutorial <2_basics>`, we will go through some more basics\n",
    "of DGL, such as reading and writing node/edge features.\n",
    "\n"
   ]
  }
 ],
 "metadata": {
  "kernelspec": {
   "display_name": "Python 3",
   "language": "python",
   "name": "python3"
  },
  "language_info": {
   "codemirror_mode": {
    "name": "ipython",
    "version": 3
   },
   "file_extension": ".py",
   "mimetype": "text/x-python",
   "name": "python",
   "nbconvert_exporter": "python",
   "pygments_lexer": "ipython3",
   "version": "3.7.7"
  }
 },
 "nbformat": 4,
 "nbformat_minor": 4
}
